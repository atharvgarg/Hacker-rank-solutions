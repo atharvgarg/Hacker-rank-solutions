{
  "nbformat": 4,
  "nbformat_minor": 0,
  "metadata": {
    "colab": {
      "provenance": [],
      "authorship_tag": "ABX9TyPj9uo05ys+/xjMjH2rPl5J",
      "include_colab_link": true
    },
    "kernelspec": {
      "name": "python3",
      "display_name": "Python 3"
    },
    "language_info": {
      "name": "python"
    }
  },
  "cells": [
    {
      "cell_type": "markdown",
      "metadata": {
        "id": "view-in-github",
        "colab_type": "text"
      },
      "source": [
        "<a href=\"https://colab.research.google.com/github/atharvgarg/Hacker-rank-solutions/blob/main/Hacker_rank_solutions.ipynb\" target=\"_parent\"><img src=\"https://colab.research.google.com/assets/colab-badge.svg\" alt=\"Open In Colab\"/></a>"
      ]
    },
    {
      "cell_type": "code",
      "execution_count": null,
      "metadata": {
        "id": "QRGFhsm2D7TB"
      },
      "outputs": [],
      "source": [
        "###########################\n",
        "### List Comprehensions ###\n",
        "###########################\n",
        "\n",
        "if __name__ == '__main__':\n",
        "    # As provided in hackerrank, we take the inputs first\n",
        "    x = int(input())\n",
        "    y = int(input())\n",
        "    z = int(input())\n",
        "    n = int(input())\n",
        "\n",
        "    # We use nested lists to print i,j,k in a list which ranges to x+1,y+1,z+1 and use the if statement to make sure i+j+k is not equal to n\n",
        "    matrix = [[i,j,k] for i in range(x+1) for j in range(y+1) for k in range(z+1) if i+j+k != n]\n",
        "    print(matrix)\n"
      ]
    },
    {
      "cell_type": "code",
      "source": [
        "#################\n",
        "### Leap Year ###\n",
        "#################\n",
        "\n",
        "def is_leap(year):\n",
        "    leap = False\n",
        "    # First we check whether the year is divisible by 4\n",
        "    if year%4==0:\n",
        "        # Then we check whether it is divisible by 100 and not 400 in which case it will not be a leap year\n",
        "        if year%100 == 0 and year%400 != 0:\n",
        "            leap=False\n",
        "        else:\n",
        "            # if the year is divisible by 4, it will be a lear year \n",
        "            leap = True\n",
        "    else:\n",
        "        leap = True\n",
        "    return leap\n",
        "\n",
        "year = int(input())\n",
        "print(is_leap(year))"
      ],
      "metadata": {
        "id": "dWNAY4cwEHre"
      },
      "execution_count": null,
      "outputs": []
    }
  ]
}